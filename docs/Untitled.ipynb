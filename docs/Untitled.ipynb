{
 "cells": [
  {
   "cell_type": "code",
   "execution_count": 1,
   "metadata": {},
   "outputs": [],
   "source": [
    "import types\n",
    "from functools import partial\n",
    "import dis\n",
    "import math\n",
    "from ctypes import c_uint8\n",
    "from functools import reduce\n",
    "import re"
   ]
  },
  {
   "cell_type": "code",
   "execution_count": 2,
   "metadata": {},
   "outputs": [],
   "source": [
    "def print_co(func):\n",
    "    for attr in dir(func.__code__):\n",
    "        if attr.startswith('co_'):\n",
    "            print(\"\\t%s = %s\" % (attr, func.__code__.__getattribute__(attr)))"
   ]
  },
  {
   "cell_type": "code",
   "execution_count": 3,
   "metadata": {},
   "outputs": [],
   "source": [
    "def copy_func(f, name=None):\n",
    "    fn = types.FunctionType(f.__code__, f.__globals__, name or f.__name__,\n",
    "                            f.__defaults__, f.__closure__)\n",
    "    \n",
    "    # In case f was given attrs (note this dict is a shallow copy):\n",
    "    fn.__dict__.update(f.__dict__)\n",
    "    \n",
    "    return fn"
   ]
  },
  {
   "cell_type": "code",
   "execution_count": 4,
   "metadata": {},
   "outputs": [],
   "source": [
    "types.FunctionType?"
   ]
  },
  {
   "cell_type": "code",
   "execution_count": 5,
   "metadata": {},
   "outputs": [],
   "source": [
    "def replace(string, substitutions):\n",
    "    substrings = sorted(substitutions, key=len, reverse=True)\n",
    "    regex = re.compile(b'|'.join(map(re.escape, substrings)))\n",
    "    return regex.sub(lambda match: substitutions[match.group(0)], string)"
   ]
  },
  {
   "cell_type": "code",
   "execution_count": 6,
   "metadata": {},
   "outputs": [],
   "source": [
    "def tuple_remove_duplicate(tuple_):\n",
    "    return tuple(sorted(set(tuple_), key=tuple_.index))\n",
    "\n",
    "def replace_load_fast_by_load_const(bytecode, varname_index2const_index):\n",
    "    varname_index2const_index = {b'|' + c_uint8(fast_index): b'd' + c_uint8(const_index) for fast_index, const_index in varname_index2const_index.items()}\n",
    "    return replace(bytecode, varname_index2const_index)\n",
    "\n",
    "def replace_fast_by_fast(bytecode, varname_index2varname_new_index):\n",
    "    # STORE_FAST\n",
    "    store_varname_index2varname_new_index = {b'}' + c_uint8(fast_index): b'}' + c_uint8(fast_new_index) for fast_index, fast_new_index in varname_index2varname_new_index.items()}\n",
    "    bytecode = replace(bytecode, store_varname_index2varname_new_index)\n",
    "    \n",
    "    # LOAD_FAST\n",
    "    load_varname_index2varname_new_index = {b'|' + c_uint8(fast_index): b'|' + c_uint8(fast_new_index) for fast_index, fast_new_index in varname_index2varname_new_index.items()}\n",
    "    bytecode = replace(bytecode, load_varname_index2varname_new_index)\n",
    "    \n",
    "    return bytecode"
   ]
  },
  {
   "cell_type": "code",
   "execution_count": 8,
   "metadata": {},
   "outputs": [],
   "source": [
    "def inlined_partial(func, name, **arg_name2value):\n",
    "    for arg_name in arg_name2value:\n",
    "        if arg_name not in func.__code__.co_varnames:\n",
    "            raise KeyError(arg_name + \" is not an argument of \" + str(func))\n",
    "            \n",
    "    fcode = func.__code__\n",
    "    new_consts = tuple_remove_duplicate(fcode.co_consts + tuple(arg_name2value.values()))\n",
    "    varname_index2new_const_index = {fcode.co_varnames.index(arg_name): new_consts.index(value) for arg_name, value in arg_name2value.items()}\n",
    "    \n",
    "    new_varnames = tuple(set(fcode.co_varnames) - set(arg_name2value.keys()))\n",
    "    varname_index2varname_new_index = {fcode.co_varnames.index(arg_name): new_varnames.index(arg_name) for arg_name in new_varnames}\n",
    "    \n",
    "    new_co_code = replace_load_fast_by_load_const(fcode.co_code, varname_index2new_const_index)\n",
    "    new_co_code = replace_fast_by_fast(new_co_code, varname_index2varname_new_index)\n",
    "\n",
    "    new_func = copy_func(func, name)\n",
    "    \n",
    "    nfcode = new_func.__code__\n",
    "    new_func.__code__ = types.CodeType(nfcode.co_argcount - len(arg_name2value),\n",
    "                                       nfcode.co_kwonlyargcount,\n",
    "                                       len(new_varnames),\n",
    "                                       nfcode.co_stacksize,\n",
    "                                       nfcode.co_flags,\n",
    "                                       new_co_code,\n",
    "                                       new_consts,\n",
    "                                       nfcode.co_names,\n",
    "                                       new_varnames,\n",
    "                                       nfcode.co_filename,\n",
    "                                       name,\n",
    "                                       nfcode.co_firstlineno,\n",
    "                                       nfcode.co_lnotab,\n",
    "                                       nfcode.co_freevars,\n",
    "                                       nfcode.co_cellvars\n",
    "                                      )                    \n",
    "    \n",
    "    return new_func"
   ]
  },
  {
   "cell_type": "code",
   "execution_count": 9,
   "metadata": {},
   "outputs": [],
   "source": [
    "def toto(text, retext):\n",
    "    print(text)\n",
    "    a = \"bonjour\"\n",
    "    b = 6\n",
    "    print(a)\n",
    "    return retext"
   ]
  },
  {
   "cell_type": "code",
   "execution_count": 30,
   "metadata": {},
   "outputs": [],
   "source": [
    "new_toto = inlined_partial(toto, \"new_toto\", retext=5, text=2)"
   ]
  },
  {
   "cell_type": "code",
   "execution_count": 29,
   "metadata": {},
   "outputs": [
    {
     "name": "stdout",
     "output_type": "stream",
     "text": [
      "\tco_argcount = 2\n",
      "\tco_cellvars = ()\n",
      "\tco_code = b't\\x00|\\x00\\x83\\x01\\x01\\x00d\\x01}\\x02d\\x02}\\x03t\\x00|\\x02\\x83\\x01\\x01\\x00|\\x01S\\x00'\n",
      "\tco_consts = (None, 'bonjour', 6)\n",
      "\tco_filename = <ipython-input-9-0488043ab200>\n",
      "\tco_firstlineno = 1\n",
      "\tco_flags = 67\n",
      "\tco_freevars = ()\n",
      "\tco_kwonlyargcount = 0\n",
      "\tco_lnotab = b'\\x00\\x01\\x08\\x01\\x04\\x01\\x04\\x01\\x08\\x01'\n",
      "\tco_name = toto\n",
      "\tco_names = ('print',)\n",
      "\tco_nlocals = 4\n",
      "\tco_stacksize = 2\n",
      "\tco_varnames = ('text', 'retext', 'a', 'b')\n"
     ]
    }
   ],
   "source": [
    "print_co(toto)"
   ]
  },
  {
   "cell_type": "code",
   "execution_count": 28,
   "metadata": {},
   "outputs": [
    {
     "name": "stdout",
     "output_type": "stream",
     "text": [
      "\tco_argcount = 1\n",
      "\tco_cellvars = ()\n",
      "\tco_code = b't\\x00|\\x02\\x83\\x01\\x01\\x00d\\x01}\\x00d\\x02}\\x01t\\x00|\\x00\\x83\\x01\\x01\\x00d\\x03S\\x00'\n",
      "\tco_consts = (None, 'bonjour', 6, 5)\n",
      "\tco_filename = <ipython-input-9-0488043ab200>\n",
      "\tco_firstlineno = 1\n",
      "\tco_flags = 67\n",
      "\tco_freevars = ()\n",
      "\tco_kwonlyargcount = 0\n",
      "\tco_lnotab = b'\\x00\\x01\\x08\\x01\\x04\\x01\\x04\\x01\\x08\\x01'\n",
      "\tco_name = new_toto\n",
      "\tco_names = ('print',)\n",
      "\tco_nlocals = 3\n",
      "\tco_stacksize = 2\n",
      "\tco_varnames = ('a', 'b', 'text')\n"
     ]
    }
   ],
   "source": [
    "print_co(new_toto)"
   ]
  },
  {
   "cell_type": "code",
   "execution_count": 27,
   "metadata": {},
   "outputs": [
    {
     "ename": "TypeError",
     "evalue": "new_toto() missing 1 required positional argument: 'a'",
     "output_type": "error",
     "traceback": [
      "\u001b[0;31m---------------------------------------------------------------------------\u001b[0m",
      "\u001b[0;31mTypeError\u001b[0m                                 Traceback (most recent call last)",
      "\u001b[0;32m<ipython-input-27-201795f3d690>\u001b[0m in \u001b[0;36m<module>\u001b[0;34m\u001b[0m\n\u001b[0;32m----> 1\u001b[0;31m \u001b[0mnew_toto\u001b[0m\u001b[0;34m(\u001b[0m\u001b[0;34m)\u001b[0m\u001b[0;34m\u001b[0m\u001b[0;34m\u001b[0m\u001b[0m\n\u001b[0m",
      "\u001b[0;31mTypeError\u001b[0m: new_toto() missing 1 required positional argument: 'a'"
     ]
    }
   ],
   "source": [
    "new_toto()"
   ]
  },
  {
   "cell_type": "code",
   "execution_count": 20,
   "metadata": {},
   "outputs": [],
   "source": [
    "def titi(a, b):\n",
    "    return a + b"
   ]
  },
  {
   "cell_type": "code",
   "execution_count": null,
   "metadata": {},
   "outputs": [],
   "source": [
    "def inline(pre_func, func, pre_func_args=None):\n",
    "    fcode = func.__code__\n",
    "    \n",
    "    inlined_partial_prefunc = inlined_partial(pre_func, \"inlined_prefunc\", **pre_func_args)\n",
    "    ippcode = inlined_partial_prefunc.__code__\n",
    "    \n",
    "    \n",
    "    new_func = copy_func(func, \"new_func\")\n",
    "    new_consts = tuple_remove_duplicate(fcode.co_consts + ippcode.co_consts)"
   ]
  },
  {
   "cell_type": "code",
   "execution_count": 38,
   "metadata": {},
   "outputs": [],
   "source": [
    "def outer_func(func):\n",
    "    def inner_func(*args, **kwargs):\n",
    "        x = 2\n",
    "        y = math.sin(3)\n",
    "        \n",
    "        print(x + y)\n",
    "        \n",
    "        return func(*args, **kwargs)\n",
    "    return inner_func"
   ]
  },
  {
   "cell_type": "code",
   "execution_count": 51,
   "metadata": {},
   "outputs": [],
   "source": [
    "@inliner(outer_func)\n",
    "def aa(a, b):\n",
    "    c = 2 * a\n",
    "    return c * b"
   ]
  },
  {
   "cell_type": "code",
   "execution_count": 40,
   "metadata": {},
   "outputs": [],
   "source": [
    "bb = outer_func(aa)"
   ]
  },
  {
   "cell_type": "code",
   "execution_count": 47,
   "metadata": {},
   "outputs": [
    {
     "name": "stdout",
     "output_type": "stream",
     "text": [
      "2.1411200080598674\n"
     ]
    },
    {
     "data": {
      "text/plain": [
       "24"
      ]
     },
     "execution_count": 47,
     "metadata": {},
     "output_type": "execute_result"
    }
   ],
   "source": [
    "aa(3, 4)"
   ]
  },
  {
   "cell_type": "code",
   "execution_count": 42,
   "metadata": {},
   "outputs": [
    {
     "name": "stdout",
     "output_type": "stream",
     "text": [
      "2.1411200080598674\n"
     ]
    },
    {
     "data": {
      "text/plain": [
       "24"
      ]
     },
     "execution_count": 42,
     "metadata": {},
     "output_type": "execute_result"
    }
   ],
   "source": [
    "bb(3, 4)"
   ]
  },
  {
   "cell_type": "code",
   "execution_count": 52,
   "metadata": {},
   "outputs": [
    {
     "name": "stdout",
     "output_type": "stream",
     "text": [
      "\tco_argcount = 0\n",
      "\tco_cellvars = ()\n",
      "\tco_code = b'd\\x01}\\x02t\\x00\\xa0\\x01d\\x02\\xa1\\x01}\\x03t\\x02|\\x02|\\x03\\x17\\x00\\x83\\x01\\x01\\x00\\x88\\x00|\\x00|\\x01\\x8e\\x01S\\x00'\n",
      "\tco_consts = (None, 2, 3)\n",
      "\tco_filename = <ipython-input-38-e73876bf53cb>\n",
      "\tco_firstlineno = 2\n",
      "\tco_flags = 31\n",
      "\tco_freevars = ('func',)\n",
      "\tco_kwonlyargcount = 0\n",
      "\tco_lnotab = b'\\x00\\x01\\x04\\x01\\n\\x02\\x0c\\x02'\n",
      "\tco_name = inner_func\n",
      "\tco_names = ('math', 'sin', 'print')\n",
      "\tco_nlocals = 4\n",
      "\tco_stacksize = 3\n",
      "\tco_varnames = ('args', 'kwargs', 'x', 'y')\n"
     ]
    }
   ],
   "source": [
    "print_co(aa)"
   ]
  },
  {
   "cell_type": "code",
   "execution_count": 53,
   "metadata": {},
   "outputs": [
    {
     "name": "stdout",
     "output_type": "stream",
     "text": [
      "  3           0 LOAD_CONST               1 (2)\n",
      "              2 STORE_FAST               2 (x)\n",
      "\n",
      "  4           4 LOAD_GLOBAL              0 (math)\n",
      "              6 LOAD_METHOD              1 (sin)\n",
      "              8 LOAD_CONST               2 (3)\n",
      "             10 CALL_METHOD              1\n",
      "             12 STORE_FAST               3 (y)\n",
      "\n",
      "  6          14 LOAD_GLOBAL              2 (print)\n",
      "             16 LOAD_FAST                2 (x)\n",
      "             18 LOAD_FAST                3 (y)\n",
      "             20 BINARY_ADD\n",
      "             22 CALL_FUNCTION            1\n",
      "             24 POP_TOP\n",
      "\n",
      "  8          26 LOAD_DEREF               0 (func)\n",
      "             28 LOAD_FAST                0 (args)\n",
      "             30 LOAD_FAST                1 (kwargs)\n",
      "             32 CALL_FUNCTION_EX         1\n",
      "             34 RETURN_VALUE\n"
     ]
    }
   ],
   "source": [
    "dis.dis(aa)"
   ]
  },
  {
   "cell_type": "code",
   "execution_count": 45,
   "metadata": {},
   "outputs": [
    {
     "name": "stdout",
     "output_type": "stream",
     "text": [
      "\tco_argcount = 0\n",
      "\tco_cellvars = ()\n",
      "\tco_code = b'd\\x01}\\x02t\\x00\\xa0\\x01d\\x02\\xa1\\x01}\\x03t\\x02|\\x02|\\x03\\x17\\x00\\x83\\x01\\x01\\x00\\x88\\x00|\\x00|\\x01\\x8e\\x01S\\x00'\n",
      "\tco_consts = (None, 2, 3)\n",
      "\tco_filename = <ipython-input-38-e73876bf53cb>\n",
      "\tco_firstlineno = 2\n",
      "\tco_flags = 31\n",
      "\tco_freevars = ('func',)\n",
      "\tco_kwonlyargcount = 0\n",
      "\tco_lnotab = b'\\x00\\x01\\x04\\x01\\n\\x02\\x0c\\x02'\n",
      "\tco_name = inner_func\n",
      "\tco_names = ('math', 'sin', 'print')\n",
      "\tco_nlocals = 4\n",
      "\tco_stacksize = 3\n",
      "\tco_varnames = ('args', 'kwargs', 'x', 'y')\n"
     ]
    }
   ],
   "source": [
    "print_co(bb)"
   ]
  },
  {
   "cell_type": "code",
   "execution_count": 57,
   "metadata": {},
   "outputs": [],
   "source": [
    "def toto(x, y):\n",
    "    print(\"bonjour\")\n",
    "    if x > y:\n",
    "        return \"sup\"\n",
    "    else:\n",
    "        return \"inf\""
   ]
  },
  {
   "cell_type": "code",
   "execution_count": 58,
   "metadata": {},
   "outputs": [
    {
     "name": "stdout",
     "output_type": "stream",
     "text": [
      "\tco_argcount = 2\n",
      "\tco_cellvars = ()\n",
      "\tco_code = b't\\x00d\\x01\\x83\\x01\\x01\\x00|\\x00|\\x01k\\x04r\\x14d\\x02S\\x00d\\x03S\\x00d\\x00S\\x00'\n",
      "\tco_consts = (None, 'bonjour', 'sup', 'inf')\n",
      "\tco_filename = <ipython-input-57-4c40d8a2df96>\n",
      "\tco_firstlineno = 1\n",
      "\tco_flags = 67\n",
      "\tco_freevars = ()\n",
      "\tco_kwonlyargcount = 0\n",
      "\tco_lnotab = b'\\x00\\x01\\x08\\x01\\x08\\x01\\x04\\x02'\n",
      "\tco_name = toto\n",
      "\tco_names = ('print',)\n",
      "\tco_nlocals = 2\n",
      "\tco_stacksize = 2\n",
      "\tco_varnames = ('x', 'y')\n"
     ]
    }
   ],
   "source": [
    "print_co(toto)"
   ]
  },
  {
   "cell_type": "code",
   "execution_count": 59,
   "metadata": {},
   "outputs": [
    {
     "name": "stdout",
     "output_type": "stream",
     "text": [
      "  2           0 LOAD_GLOBAL              0 (print)\n",
      "              2 LOAD_CONST               1 ('bonjour')\n",
      "              4 CALL_FUNCTION            1\n",
      "              6 POP_TOP\n",
      "\n",
      "  3           8 LOAD_FAST                0 (x)\n",
      "             10 LOAD_FAST                1 (y)\n",
      "             12 COMPARE_OP               4 (>)\n",
      "             14 POP_JUMP_IF_FALSE       20\n",
      "\n",
      "  4          16 LOAD_CONST               2 ('sup')\n",
      "             18 RETURN_VALUE\n",
      "\n",
      "  6     >>   20 LOAD_CONST               3 ('inf')\n",
      "             22 RETURN_VALUE\n",
      "             24 LOAD_CONST               0 (None)\n",
      "             26 RETURN_VALUE\n"
     ]
    }
   ],
   "source": [
    "dis.dis(toto)"
   ]
  },
  {
   "cell_type": "code",
   "execution_count": null,
   "metadata": {},
   "outputs": [],
   "source": []
  }
 ],
 "metadata": {
  "kernelspec": {
   "display_name": "Python 3",
   "language": "python",
   "name": "python3"
  },
  "language_info": {
   "codemirror_mode": {
    "name": "ipython",
    "version": 3
   },
   "file_extension": ".py",
   "mimetype": "text/x-python",
   "name": "python",
   "nbconvert_exporter": "python",
   "pygments_lexer": "ipython3",
   "version": "3.7.3"
  }
 },
 "nbformat": 4,
 "nbformat_minor": 2
}
