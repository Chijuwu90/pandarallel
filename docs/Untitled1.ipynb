{
 "cells": [
  {
   "cell_type": "code",
   "execution_count": 1,
   "metadata": {},
   "outputs": [],
   "source": [
    "import types"
   ]
  },
  {
   "cell_type": "code",
   "execution_count": 2,
   "metadata": {},
   "outputs": [],
   "source": [
    "def copy_func(f, name=None):\n",
    "    '''\n",
    "    return a function with same code, globals, defaults, closure, and \n",
    "    name (or provide a new name)\n",
    "    '''\n",
    "    fn = types.FunctionType(f.__code__, f.__globals__, name or f.__name__,\n",
    "        f.__defaults__, f.__closure__)\n",
    "    \n",
    "    # In case f was given attrs (note this dict is a shallow copy):\n",
    "    fn.__dict__.update(f.__dict__) \n",
    "    \n",
    "    return fn"
   ]
  },
  {
   "cell_type": "code",
   "execution_count": null,
   "metadata": {},
   "outputs": [],
   "source": [
    "def inline_wrapper()"
   ]
  }
 ],
 "metadata": {
  "kernelspec": {
   "display_name": "Python 3",
   "language": "python",
   "name": "python3"
  },
  "language_info": {
   "codemirror_mode": {
    "name": "ipython",
    "version": 3
   },
   "file_extension": ".py",
   "mimetype": "text/x-python",
   "name": "python",
   "nbconvert_exporter": "python",
   "pygments_lexer": "ipython3",
   "version": "3.7.3"
  }
 },
 "nbformat": 4,
 "nbformat_minor": 2
}
