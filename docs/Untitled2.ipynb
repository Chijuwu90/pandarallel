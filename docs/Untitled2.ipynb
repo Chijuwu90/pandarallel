{
 "cells": [
  {
   "cell_type": "code",
   "execution_count": 10,
   "metadata": {},
   "outputs": [],
   "source": [
    "import dis\n",
    "import math"
   ]
  },
  {
   "cell_type": "code",
   "execution_count": 11,
   "metadata": {},
   "outputs": [],
   "source": [
    "def toto(x, y):\n",
    "    return x + y\n",
    "\n",
    "def titi(a, b):\n",
    "    print(\"a\")\n",
    "    res = toto(math.sin(1), math.sin(2))\n",
    "    print(\"b\")"
   ]
  },
  {
   "cell_type": "code",
   "execution_count": 12,
   "metadata": {},
   "outputs": [],
   "source": [
    "def print_co(func):\n",
    "    for attr in dir(func.__code__):\n",
    "        if attr.startswith('co_'):\n",
    "            print(\"\\t%s = %s\" % (attr, func.__code__.__getattribute__(attr)))"
   ]
  },
  {
   "cell_type": "code",
   "execution_count": 4,
   "metadata": {},
   "outputs": [
    {
     "name": "stdout",
     "output_type": "stream",
     "text": [
      "  5           0 LOAD_GLOBAL              0 (print)\n",
      "              2 LOAD_CONST               1 ('a')\n",
      "              4 CALL_FUNCTION            1\n",
      "              6 POP_TOP\n",
      "\n",
      "  6           8 LOAD_GLOBAL              1 (toto)\n",
      "             10 LOAD_GLOBAL              2 (math)\n",
      "             12 LOAD_METHOD              3 (sin)\n",
      "             14 LOAD_CONST               2 (1)\n",
      "             16 CALL_METHOD              1\n",
      "             18 LOAD_GLOBAL              2 (math)\n",
      "             20 LOAD_METHOD              3 (sin)\n",
      "             22 LOAD_CONST               3 (2)\n",
      "             24 CALL_METHOD              1\n",
      "             26 CALL_FUNCTION            2\n",
      "             28 STORE_FAST               2 (res)\n",
      "\n",
      "  7          30 LOAD_GLOBAL              0 (print)\n",
      "             32 LOAD_CONST               4 ('b')\n",
      "             34 CALL_FUNCTION            1\n",
      "             36 POP_TOP\n",
      "             38 LOAD_CONST               0 (None)\n",
      "             40 RETURN_VALUE\n"
     ]
    }
   ],
   "source": [
    "dis.dis(titi)"
   ]
  },
  {
   "cell_type": "code",
   "execution_count": 10,
   "metadata": {},
   "outputs": [
    {
     "name": "stdout",
     "output_type": "stream",
     "text": [
      "\tco_argcount = 2\n",
      "\tco_cellvars = ()\n",
      "\tco_code = b't\\x00d\\x01\\x83\\x01\\x01\\x00t\\x01t\\x02\\xa0\\x03d\\x02\\xa1\\x01t\\x04\\xa0\\x03d\\x03\\xa1\\x01\\x83\\x02}\\x02t\\x00d\\x04\\x83\\x01\\x01\\x00d\\x00S\\x00'\n",
      "\tco_consts = (None, 'a', 1, 2, 'b')\n",
      "\tco_filename = <ipython-input-6-3ae24330aee5>\n",
      "\tco_firstlineno = 4\n",
      "\tco_flags = 67\n",
      "\tco_freevars = ()\n",
      "\tco_kwonlyargcount = 0\n",
      "\tco_lnotab = b'\\x00\\x01\\x08\\x01\\x16\\x01'\n",
      "\tco_name = titi\n",
      "\tco_names = ('print', 'toto', 'math', 'sin', 'nath')\n",
      "\tco_nlocals = 3\n",
      "\tco_stacksize = 5\n",
      "\tco_varnames = ('a', 'b', 'res')\n"
     ]
    }
   ],
   "source": [
    "print_co(titi)"
   ]
  },
  {
   "cell_type": "code",
   "execution_count": 5,
   "metadata": {},
   "outputs": [],
   "source": [
    "aaa = titi.__code__.co_code"
   ]
  },
  {
   "cell_type": "code",
   "execution_count": 11,
   "metadata": {},
   "outputs": [
    {
     "data": {
      "text/plain": [
       "bytes"
      ]
     },
     "execution_count": 11,
     "metadata": {},
     "output_type": "execute_result"
    }
   ],
   "source": [
    "type(aaa)"
   ]
  },
  {
   "cell_type": "code",
   "execution_count": 11,
   "metadata": {},
   "outputs": [
    {
     "data": {
      "text/plain": [
       "function"
      ]
     },
     "execution_count": 11,
     "metadata": {},
     "output_type": "execute_result"
    }
   ],
   "source": [
    "type(titi)"
   ]
  },
  {
   "cell_type": "code",
   "execution_count": 12,
   "metadata": {},
   "outputs": [
    {
     "data": {
      "text/plain": [
       "bytes"
      ]
     },
     "execution_count": 12,
     "metadata": {},
     "output_type": "execute_result"
    }
   ],
   "source": [
    "bytes"
   ]
  },
  {
   "cell_type": "code",
   "execution_count": 15,
   "metadata": {},
   "outputs": [
    {
     "data": {
      "text/plain": [
       "116"
      ]
     },
     "execution_count": 15,
     "metadata": {},
     "output_type": "execute_result"
    }
   ],
   "source": [
    "titi.__code__.co_code[0]"
   ]
  },
  {
   "cell_type": "code",
   "execution_count": 12,
   "metadata": {},
   "outputs": [],
   "source": [
    "from types import FunctionType"
   ]
  },
  {
   "cell_type": "code",
   "execution_count": 13,
   "metadata": {},
   "outputs": [
    {
     "data": {
      "text/plain": [
       "True"
      ]
     },
     "execution_count": 13,
     "metadata": {},
     "output_type": "execute_result"
    }
   ],
   "source": [
    "type(titi) == FunctionType"
   ]
  },
  {
   "cell_type": "code",
   "execution_count": 13,
   "metadata": {},
   "outputs": [],
   "source": [
    "def func():\n",
    "    def inside(x, y):\n",
    "        return x + y\n",
    "    dum = 1 + 1\n",
    "    bar = inside(dum, dum)\n",
    "    foobar = dum + 1\n",
    "    baz = inside(foobar, foo)\n",
    "    return baz"
   ]
  },
  {
   "cell_type": "code",
   "execution_count": 14,
   "metadata": {},
   "outputs": [
    {
     "name": "stdout",
     "output_type": "stream",
     "text": [
      "\tco_argcount = 0\n",
      "\tco_cellvars = ()\n",
      "\tco_code = b'd\\x01d\\x02\\x84\\x00}\\x00d\\x03}\\x01|\\x00|\\x01|\\x01\\x83\\x02}\\x02|\\x01d\\x04\\x17\\x00}\\x03|\\x00|\\x03t\\x00\\x83\\x02}\\x04|\\x04S\\x00'\n",
      "\tco_consts = (None, <code object inside at 0x7f1754066270, file \"<ipython-input-13-837a19a3413f>\", line 2>, 'func.<locals>.inside', 2, 1)\n",
      "\tco_filename = <ipython-input-13-837a19a3413f>\n",
      "\tco_firstlineno = 1\n",
      "\tco_flags = 67\n",
      "\tco_freevars = ()\n",
      "\tco_kwonlyargcount = 0\n",
      "\tco_lnotab = b'\\x00\\x01\\x08\\x02\\x04\\x01\\n\\x01\\x08\\x01\\n\\x01'\n",
      "\tco_name = func\n",
      "\tco_names = ('foo',)\n",
      "\tco_nlocals = 5\n",
      "\tco_stacksize = 3\n",
      "\tco_varnames = ('inside', 'dum', 'bar', 'foobar', 'baz')\n"
     ]
    }
   ],
   "source": [
    "print_co(func)"
   ]
  },
  {
   "cell_type": "code",
   "execution_count": 15,
   "metadata": {},
   "outputs": [
    {
     "name": "stdout",
     "output_type": "stream",
     "text": [
      "  2           0 LOAD_CONST               1 (<code object inside at 0x7f1754066270, file \"<ipython-input-13-837a19a3413f>\", line 2>)\n",
      "              2 LOAD_CONST               2 ('func.<locals>.inside')\n",
      "              4 MAKE_FUNCTION            0\n",
      "              6 STORE_FAST               0 (inside)\n",
      "\n",
      "  4           8 LOAD_CONST               3 (2)\n",
      "             10 STORE_FAST               1 (dum)\n",
      "\n",
      "  5          12 LOAD_FAST                0 (inside)\n",
      "             14 LOAD_FAST                1 (dum)\n",
      "             16 LOAD_FAST                1 (dum)\n",
      "             18 CALL_FUNCTION            2\n",
      "             20 STORE_FAST               2 (bar)\n",
      "\n",
      "  6          22 LOAD_FAST                1 (dum)\n",
      "             24 LOAD_CONST               4 (1)\n",
      "             26 BINARY_ADD\n",
      "             28 STORE_FAST               3 (foobar)\n",
      "\n",
      "  7          30 LOAD_FAST                0 (inside)\n",
      "             32 LOAD_FAST                3 (foobar)\n",
      "             34 LOAD_GLOBAL              0 (foo)\n",
      "             36 CALL_FUNCTION            2\n",
      "             38 STORE_FAST               4 (baz)\n",
      "\n",
      "  8          40 LOAD_FAST                4 (baz)\n",
      "             42 RETURN_VALUE\n",
      "\n",
      "Disassembly of <code object inside at 0x7f1754066270, file \"<ipython-input-13-837a19a3413f>\", line 2>:\n",
      "  3           0 LOAD_FAST                0 (x)\n",
      "              2 LOAD_FAST                1 (y)\n",
      "              4 BINARY_ADD\n",
      "              6 RETURN_VALUE\n"
     ]
    }
   ],
   "source": [
    "dis.dis(func)"
   ]
  },
  {
   "cell_type": "code",
   "execution_count": 25,
   "metadata": {},
   "outputs": [],
   "source": [
    "def decorator(func):\n",
    "    def wrapper(*args, **kwargs):\n",
    "        a = func(*args, **kwargs)\n",
    "        b = 2\n",
    "        c = func(*args, **kwargs)\n",
    "        \n",
    "        return a + c\n",
    "    return wrapper"
   ]
  },
  {
   "cell_type": "code",
   "execution_count": 30,
   "metadata": {},
   "outputs": [],
   "source": [
    "def titi(x):\n",
    "    return x"
   ]
  },
  {
   "cell_type": "code",
   "execution_count": 28,
   "metadata": {},
   "outputs": [
    {
     "name": "stdout",
     "output_type": "stream",
     "text": [
      "\tco_argcount = 0\n",
      "\tco_cellvars = ()\n",
      "\tco_code = b'\\x88\\x00|\\x00|\\x01\\x8e\\x01}\\x02d\\x01}\\x03\\x88\\x00|\\x00|\\x01\\x8e\\x01}\\x04|\\x02|\\x04\\x17\\x00S\\x00'\n",
      "\tco_consts = (None, 2)\n",
      "\tco_filename = <ipython-input-25-706fceaf672d>\n",
      "\tco_firstlineno = 2\n",
      "\tco_flags = 31\n",
      "\tco_freevars = ('func',)\n",
      "\tco_kwonlyargcount = 0\n",
      "\tco_lnotab = b'\\x00\\x01\\n\\x01\\x04\\x01\\n\\x02'\n",
      "\tco_name = wrapper\n",
      "\tco_names = ()\n",
      "\tco_nlocals = 5\n",
      "\tco_stacksize = 3\n",
      "\tco_varnames = ('args', 'kwargs', 'a', 'b', 'c')\n"
     ]
    }
   ],
   "source": [
    "print_co(titi)"
   ]
  },
  {
   "cell_type": "code",
   "execution_count": 29,
   "metadata": {},
   "outputs": [
    {
     "name": "stdout",
     "output_type": "stream",
     "text": [
      "  3           0 LOAD_DEREF               0 (func)\n",
      "              2 LOAD_FAST                0 (args)\n",
      "              4 LOAD_FAST                1 (kwargs)\n",
      "              6 CALL_FUNCTION_EX         1\n",
      "              8 STORE_FAST               2 (a)\n",
      "\n",
      "  4          10 LOAD_CONST               1 (2)\n",
      "             12 STORE_FAST               3 (b)\n",
      "\n",
      "  5          14 LOAD_DEREF               0 (func)\n",
      "             16 LOAD_FAST                0 (args)\n",
      "             18 LOAD_FAST                1 (kwargs)\n",
      "             20 CALL_FUNCTION_EX         1\n",
      "             22 STORE_FAST               4 (c)\n",
      "\n",
      "  7          24 LOAD_FAST                2 (a)\n",
      "             26 LOAD_FAST                4 (c)\n",
      "             28 BINARY_ADD\n",
      "             30 RETURN_VALUE\n"
     ]
    }
   ],
   "source": [
    "dis.dis(titi)"
   ]
  },
  {
   "cell_type": "code",
   "execution_count": 33,
   "metadata": {},
   "outputs": [],
   "source": [
    "def toto():\n",
    "    a = titi(2)\n",
    "    b = titi(4)\n",
    "    return b"
   ]
  },
  {
   "cell_type": "code",
   "execution_count": 34,
   "metadata": {},
   "outputs": [
    {
     "name": "stdout",
     "output_type": "stream",
     "text": [
      "  2           0 LOAD_GLOBAL              0 (titi)\n",
      "              2 LOAD_CONST               1 (2)\n",
      "              4 CALL_FUNCTION            1\n",
      "              6 STORE_FAST               0 (a)\n",
      "\n",
      "  3           8 LOAD_GLOBAL              0 (titi)\n",
      "             10 LOAD_CONST               2 (4)\n",
      "             12 CALL_FUNCTION            1\n",
      "             14 STORE_FAST               1 (b)\n",
      "\n",
      "  4          16 LOAD_FAST                1 (b)\n",
      "             18 RETURN_VALUE\n"
     ]
    }
   ],
   "source": [
    "dis.dis(toto)"
   ]
  },
  {
   "cell_type": "code",
   "execution_count": 36,
   "metadata": {},
   "outputs": [],
   "source": [
    "def toto():\n",
    "    def titi(x):\n",
    "        return x**2\n",
    "    def tutu(x, y):\n",
    "        return x + y\n",
    "    \n",
    "    return tutu(titi(1), titi(2))"
   ]
  },
  {
   "cell_type": "code",
   "execution_count": 37,
   "metadata": {},
   "outputs": [
    {
     "data": {
      "text/plain": [
       "5"
      ]
     },
     "execution_count": 37,
     "metadata": {},
     "output_type": "execute_result"
    }
   ],
   "source": [
    "toto()"
   ]
  },
  {
   "cell_type": "code",
   "execution_count": 38,
   "metadata": {},
   "outputs": [
    {
     "name": "stdout",
     "output_type": "stream",
     "text": [
      "\tco_argcount = 0\n",
      "\tco_cellvars = ()\n",
      "\tco_code = b'd\\x01d\\x02\\x84\\x00}\\x00d\\x03d\\x04\\x84\\x00}\\x01|\\x01|\\x00d\\x05\\x83\\x01|\\x00d\\x06\\x83\\x01\\x83\\x02S\\x00'\n",
      "\tco_consts = (None, <code object titi at 0x7f1745bd9db0, file \"<ipython-input-36-3e602340fd23>\", line 2>, 'toto.<locals>.titi', <code object tutu at 0x7f1745bd9e40, file \"<ipython-input-36-3e602340fd23>\", line 4>, 'toto.<locals>.tutu', 1, 2)\n",
      "\tco_filename = <ipython-input-36-3e602340fd23>\n",
      "\tco_firstlineno = 1\n",
      "\tco_flags = 67\n",
      "\tco_freevars = ()\n",
      "\tco_kwonlyargcount = 0\n",
      "\tco_lnotab = b'\\x00\\x01\\x08\\x02\\x08\\x03'\n",
      "\tco_name = toto\n",
      "\tco_names = ()\n",
      "\tco_nlocals = 2\n",
      "\tco_stacksize = 4\n",
      "\tco_varnames = ('titi', 'tutu')\n"
     ]
    }
   ],
   "source": [
    "print_co(toto)"
   ]
  },
  {
   "cell_type": "code",
   "execution_count": 39,
   "metadata": {},
   "outputs": [
    {
     "name": "stdout",
     "output_type": "stream",
     "text": [
      "  2           0 LOAD_CONST               1 (<code object titi at 0x7f1745bd9db0, file \"<ipython-input-36-3e602340fd23>\", line 2>)\n",
      "              2 LOAD_CONST               2 ('toto.<locals>.titi')\n",
      "              4 MAKE_FUNCTION            0\n",
      "              6 STORE_FAST               0 (titi)\n",
      "\n",
      "  4           8 LOAD_CONST               3 (<code object tutu at 0x7f1745bd9e40, file \"<ipython-input-36-3e602340fd23>\", line 4>)\n",
      "             10 LOAD_CONST               4 ('toto.<locals>.tutu')\n",
      "             12 MAKE_FUNCTION            0\n",
      "             14 STORE_FAST               1 (tutu)\n",
      "\n",
      "  7          16 LOAD_FAST                1 (tutu)\n",
      "             18 LOAD_FAST                0 (titi)\n",
      "             20 LOAD_CONST               5 (1)\n",
      "             22 CALL_FUNCTION            1\n",
      "             24 LOAD_FAST                0 (titi)\n",
      "             26 LOAD_CONST               6 (2)\n",
      "             28 CALL_FUNCTION            1\n",
      "             30 CALL_FUNCTION            2\n",
      "             32 RETURN_VALUE\n",
      "\n",
      "Disassembly of <code object titi at 0x7f1745bd9db0, file \"<ipython-input-36-3e602340fd23>\", line 2>:\n",
      "  3           0 LOAD_FAST                0 (x)\n",
      "              2 LOAD_CONST               1 (2)\n",
      "              4 BINARY_POWER\n",
      "              6 RETURN_VALUE\n",
      "\n",
      "Disassembly of <code object tutu at 0x7f1745bd9e40, file \"<ipython-input-36-3e602340fd23>\", line 4>:\n",
      "  5           0 LOAD_FAST                0 (x)\n",
      "              2 LOAD_FAST                1 (y)\n",
      "              4 BINARY_ADD\n",
      "              6 RETURN_VALUE\n"
     ]
    }
   ],
   "source": [
    "dis.dis(toto)"
   ]
  },
  {
   "cell_type": "code",
   "execution_count": 31,
   "metadata": {},
   "outputs": [],
   "source": [
    "from itertools import count\n",
    "\n",
    "counter = count()\n",
    "\n",
    "def decorator(func):\n",
    "    def wrapper(*args, **kwargs):\n",
    "        yoyo = next(counter) \n",
    "        print(yoyo)\n",
    "        return func(*args, **kwargs)\n",
    "    return wrapper\n",
    "  \n",
    "    \n",
    "@decorator\n",
    "def toto(x):\n",
    "    return x**2\n",
    "\n",
    "# decorated_toto = decorator(toto)"
   ]
  },
  {
   "cell_type": "code",
   "execution_count": 32,
   "metadata": {},
   "outputs": [
    {
     "name": "stdout",
     "output_type": "stream",
     "text": [
      "0\n"
     ]
    },
    {
     "data": {
      "text/plain": [
       "16"
      ]
     },
     "execution_count": 32,
     "metadata": {},
     "output_type": "execute_result"
    }
   ],
   "source": [
    "toto(4)"
   ]
  },
  {
   "cell_type": "code",
   "execution_count": 33,
   "metadata": {},
   "outputs": [
    {
     "name": "stdout",
     "output_type": "stream",
     "text": [
      "\tco_argcount = 0\n",
      "\tco_cellvars = ()\n",
      "\tco_code = b't\\x00t\\x01\\x83\\x01}\\x02t\\x02|\\x02\\x83\\x01\\x01\\x00\\x88\\x00|\\x00|\\x01\\x8e\\x01S\\x00'\n",
      "\tco_consts = (None,)\n",
      "\tco_filename = <ipython-input-31-a8626c34dc75>\n",
      "\tco_firstlineno = 6\n",
      "\tco_flags = 31\n",
      "\tco_freevars = ('func',)\n",
      "\tco_kwonlyargcount = 0\n",
      "\tco_lnotab = b'\\x00\\x01\\x08\\x01\\x08\\x01'\n",
      "\tco_name = wrapper\n",
      "\tco_names = ('next', 'counter', 'print')\n",
      "\tco_nlocals = 3\n",
      "\tco_stacksize = 3\n",
      "\tco_varnames = ('args', 'kwargs', 'yoyo')\n"
     ]
    }
   ],
   "source": [
    "print_co(toto)"
   ]
  },
  {
   "cell_type": "code",
   "execution_count": 24,
   "metadata": {},
   "outputs": [
    {
     "name": "stdout",
     "output_type": "stream",
     "text": [
      "\tco_argcount = 1\n",
      "\tco_cellvars = ()\n",
      "\tco_code = b'|\\x00d\\x01\\x13\\x00S\\x00'\n",
      "\tco_consts = (None, 2)\n",
      "\tco_filename = <ipython-input-22-8342b6eedf94>\n",
      "\tco_firstlineno = 12\n",
      "\tco_flags = 67\n",
      "\tco_freevars = ()\n",
      "\tco_kwonlyargcount = 0\n",
      "\tco_lnotab = b'\\x00\\x01'\n",
      "\tco_name = toto\n",
      "\tco_names = ()\n",
      "\tco_nlocals = 1\n",
      "\tco_stacksize = 2\n",
      "\tco_varnames = ('x',)\n"
     ]
    }
   ],
   "source": [
    "print_co(toto)"
   ]
  },
  {
   "cell_type": "code",
   "execution_count": 25,
   "metadata": {},
   "outputs": [
    {
     "name": "stdout",
     "output_type": "stream",
     "text": [
      " 13           0 LOAD_FAST                0 (x)\n",
      "              2 LOAD_CONST               1 (2)\n",
      "              4 BINARY_POWER\n",
      "              6 RETURN_VALUE\n"
     ]
    }
   ],
   "source": [
    "dis.dis(toto)"
   ]
  },
  {
   "cell_type": "code",
   "execution_count": 28,
   "metadata": {},
   "outputs": [],
   "source": [
    "def titi(x):\n",
    "    yoyo = next(counter) \n",
    "    print(yoyo)\n",
    "    return x**2"
   ]
  },
  {
   "cell_type": "code",
   "execution_count": 29,
   "metadata": {},
   "outputs": [
    {
     "name": "stdout",
     "output_type": "stream",
     "text": [
      "\tco_argcount = 1\n",
      "\tco_cellvars = ()\n",
      "\tco_code = b't\\x00t\\x01\\x83\\x01}\\x01t\\x02|\\x01\\x83\\x01\\x01\\x00|\\x00d\\x01\\x13\\x00S\\x00'\n",
      "\tco_consts = (None, 2)\n",
      "\tco_filename = <ipython-input-28-546c292103ff>\n",
      "\tco_firstlineno = 1\n",
      "\tco_flags = 67\n",
      "\tco_freevars = ()\n",
      "\tco_kwonlyargcount = 0\n",
      "\tco_lnotab = b'\\x00\\x01\\x08\\x01\\x08\\x01'\n",
      "\tco_name = titi\n",
      "\tco_names = ('next', 'counter', 'print')\n",
      "\tco_nlocals = 2\n",
      "\tco_stacksize = 2\n",
      "\tco_varnames = ('x', 'yoyo')\n"
     ]
    }
   ],
   "source": [
    "print_co(titi)"
   ]
  },
  {
   "cell_type": "code",
   "execution_count": 38,
   "metadata": {},
   "outputs": [],
   "source": [
    "def func_return_something(a, b):\n",
    "    c = a + 1\n",
    "    print(a)\n",
    "#     return b"
   ]
  },
  {
   "cell_type": "code",
   "execution_count": 39,
   "metadata": {},
   "outputs": [
    {
     "name": "stdout",
     "output_type": "stream",
     "text": [
      "  2           0 LOAD_FAST                0 (a)\n",
      "              2 LOAD_CONST               1 (1)\n",
      "              4 BINARY_ADD\n",
      "              6 STORE_FAST               2 (c)\n",
      "\n",
      "  3           8 LOAD_GLOBAL              0 (print)\n",
      "             10 LOAD_FAST                0 (a)\n",
      "             12 CALL_FUNCTION            1\n",
      "             14 POP_TOP\n",
      "             16 LOAD_CONST               0 (None)\n",
      "             18 RETURN_VALUE\n"
     ]
    }
   ],
   "source": [
    "dis.dis(func_return_something)"
   ]
  },
  {
   "cell_type": "code",
   "execution_count": 40,
   "metadata": {},
   "outputs": [
    {
     "name": "stdout",
     "output_type": "stream",
     "text": [
      "\tco_argcount = 2\n",
      "\tco_cellvars = ()\n",
      "\tco_code = b'|\\x00d\\x01\\x17\\x00}\\x02t\\x00|\\x00\\x83\\x01\\x01\\x00d\\x00S\\x00'\n",
      "\tco_consts = (None, 1)\n",
      "\tco_filename = <ipython-input-38-6ed8534d61a4>\n",
      "\tco_firstlineno = 1\n",
      "\tco_flags = 67\n",
      "\tco_freevars = ()\n",
      "\tco_kwonlyargcount = 0\n",
      "\tco_lnotab = b'\\x00\\x01\\x08\\x01'\n",
      "\tco_name = func_return_something\n",
      "\tco_names = ('print',)\n",
      "\tco_nlocals = 3\n",
      "\tco_stacksize = 2\n",
      "\tco_varnames = ('a', 'b', 'c')\n"
     ]
    }
   ],
   "source": [
    "print_co(func_return_something)"
   ]
  },
  {
   "cell_type": "code",
   "execution_count": 51,
   "metadata": {},
   "outputs": [],
   "source": [
    "def toto(x, y):\n",
    "    if x:\n",
    "        return"
   ]
  },
  {
   "cell_type": "code",
   "execution_count": 52,
   "metadata": {},
   "outputs": [
    {
     "name": "stdout",
     "output_type": "stream",
     "text": [
      "  2           0 LOAD_FAST                0 (x)\n",
      "              2 POP_JUMP_IF_FALSE        8\n",
      "\n",
      "  3           4 LOAD_CONST               0 (None)\n",
      "              6 RETURN_VALUE\n",
      "        >>    8 LOAD_CONST               0 (None)\n",
      "             10 RETURN_VALUE\n"
     ]
    }
   ],
   "source": [
    "dis.dis(toto)"
   ]
  },
  {
   "cell_type": "code",
   "execution_count": 53,
   "metadata": {},
   "outputs": [],
   "source": [
    "from inspect import signature"
   ]
  },
  {
   "cell_type": "code",
   "execution_count": 54,
   "metadata": {},
   "outputs": [
    {
     "data": {
      "text/plain": [
       "'()'"
      ]
     },
     "execution_count": 54,
     "metadata": {},
     "output_type": "execute_result"
    }
   ],
   "source": [
    "str(signature(lambda: 2))"
   ]
  },
  {
   "cell_type": "code",
   "execution_count": 55,
   "metadata": {},
   "outputs": [],
   "source": [
    "tutu = signature(toto)"
   ]
  },
  {
   "cell_type": "code",
   "execution_count": 59,
   "metadata": {},
   "outputs": [
    {
     "data": {
      "text/plain": [
       "0"
      ]
     },
     "execution_count": 59,
     "metadata": {},
     "output_type": "execute_result"
    }
   ],
   "source": [
    "len(signature(lambda: 3).parameters)"
   ]
  },
  {
   "cell_type": "code",
   "execution_count": null,
   "metadata": {},
   "outputs": [],
   "source": []
  }
 ],
 "metadata": {
  "kernelspec": {
   "display_name": "Python 3",
   "language": "python",
   "name": "python3"
  },
  "language_info": {
   "codemirror_mode": {
    "name": "ipython",
    "version": 3
   },
   "file_extension": ".py",
   "mimetype": "text/x-python",
   "name": "python",
   "nbconvert_exporter": "python",
   "pygments_lexer": "ipython3",
   "version": "3.7.3"
  }
 },
 "nbformat": 4,
 "nbformat_minor": 2
}
